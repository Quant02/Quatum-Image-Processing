{
 "cells": [
  {
   "cell_type": "markdown",
   "id": "39a76b05",
   "metadata": {},
   "source": [
    "## Importing modules"
   ]
  },
  {
   "cell_type": "code",
   "execution_count": null,
   "id": "49598f7e",
   "metadata": {},
   "outputs": [],
   "source": [
    "import qiskit\n",
    "from qiskit import QuantumCircuit, QuantumRegister, Aer, transpile, assemble\n",
    "from qiskit.circuit.library import QFT\n",
    "from qiskit.tools.jupyter import *\n",
    "from qiskit.visualization import plot_histogram\n",
    "from PIL import Image\n",
    "import numpy as np"
   ]
  },
  {
   "cell_type": "markdown",
   "id": "abe87f05",
   "metadata": {},
   "source": [
    "## Function to encode the image onto a quantum state"
   ]
  },
  {
   "cell_type": "code",
   "execution_count": null,
   "id": "8b73ba3f",
   "metadata": {},
   "outputs": [],
   "source": [
    "def encode_image(image,n):\n",
    "    \n",
    "    im = Image.open(image,'r')\n",
    "    im = im.convert(\"L\")\n",
    "    pixel_value = list(im.getdata())\n",
    "    pixel_value_array = np.array(pixel_value)\n",
    "    \n",
    "    #Normalize the pixel values\n",
    "    norm = np.linalg.norm(pixel_value_array)\n",
    "    normalized_array = pixel_value_array/norm\n",
    "    \n",
    "    #Encode onto a quantum state\n",
    "    qc = QuantumCircuit(n)\n",
    "    qc.initialize(normalized_array.data, qc.qubits)\n",
    "    \n",
    "    return qc"
   ]
  },
  {
   "cell_type": "markdown",
   "id": "824c8a61",
   "metadata": {},
   "source": [
    "## Function to apply quantum fourier transform on the encode image"
   ]
  },
  {
   "cell_type": "code",
   "execution_count": null,
   "id": "ff58c6d7",
   "metadata": {},
   "outputs": [],
   "source": [
    "def apply_qft(qc,n):\n",
    "    qc.append(QFT(n), qc.qubits)\n",
    "    return qc"
   ]
  },
  {
   "cell_type": "markdown",
   "id": "e3e7b1d1",
   "metadata": {},
   "source": [
    "## Function to measure the image state"
   ]
  },
  {
   "cell_type": "code",
   "execution_count": null,
   "id": "05695944",
   "metadata": {},
   "outputs": [],
   "source": [
    "def measurement_and_retrieval(qc,n):\n",
    "    \n",
    "    #Measure the state\n",
    "    qc.measure_all()\n",
    "    \n",
    "    #Get the probability amplitudes\n",
    "    aer_sim = Aer.get_backend('aer_simulator')\n",
    "    shots = 4096\n",
    "    t_qc = transpile(qc, aer_sim)\n",
    "    qobj = assemble(t_qc, shots=shots)\n",
    "    result = aer_sim.run(qobj).result()\n",
    "    counts = result.get_counts(qc)\n",
    "    fourier_transformed_array = np.zeros(2**n,dtype=float)\n",
    "    bin_var = 0b0000\n",
    "    dict_list = counts.keys()\n",
    "    for i in range(2**n):\n",
    "        str_var = bin(bin_var)[2:]\n",
    "        str_var = str_var.zfill(n)\n",
    "        if str_var in dict_list:\n",
    "            fourier_transformed_array[i] = counts[f'{str_var}']/shots\n",
    "            fourier_transformed_array[i] = np.sqrt(fourier_transformed_array[i])\n",
    "        else:\n",
    "            fourier_transformed_array[i] = 0\n",
    "        bin_var += 1\n",
    "    \n",
    "    # Get the pixel values\n",
    "    fourier_transformed_array = fourier_transformed_array*255\n",
    "    transformed_pixel_data = np.zeros(2**n, dtype=int)\n",
    "    for i in range(2**n): transformed_pixel_data[i] = int(fourier_transformed_array[i])\n",
    "    picture_array = np.asarray([[0 for i in range(size)] for j in range(size)])\n",
    "    for i in range(2**n):\n",
    "        picture_array[i//size][i%size] = transformed_pixel_data[i]\n",
    "    \n",
    "    #Retrieval\n",
    "    "
   ]
  },
  {
   "cell_type": "markdown",
   "id": "3f333a0d",
   "metadata": {},
   "source": [
    "## Function to retrieve the image"
   ]
  },
  {
   "cell_type": "code",
   "execution_count": null,
   "id": "a41580c1",
   "metadata": {},
   "outputs": [],
   "source": [
    "def retrieve_image()\n",
    "    picture_array = picture_array.astype(np.uint8)\n",
    "    new_image = Image.fromarray(picture_array)\n",
    "    new_image.save('new_image.png')\n",
    "    \n",
    "    return new"
   ]
  },
  {
   "cell_type": "markdown",
   "id": "c3572200",
   "metadata": {},
   "source": [
    "## Denoising"
   ]
  },
  {
   "cell_type": "code",
   "execution_count": null,
   "id": "466fa34d",
   "metadata": {},
   "outputs": [],
   "source": [
    "def denoising(image,n):\n",
    "    qc=encode_image(image,n)\n",
    "    qc=apply_qft(qc,n)\n",
    "    qft_pixels=measurement(qc,n)\n",
    "\n",
    "    for i in range (length(qft_pixels)-no_of_cells,length(qft_pixels)):\n",
    "    qft_pixels[i]=0\n",
    "\n",
    "    new_image=Image.fromarray(qft_pixels)\n",
    "    qc_iqft=encode_image(new_image,n)    \n",
    "    qc_iqft.append(QFT(n,inverse=True), range(n))\n",
    "    qc_iqft.barrier()\n",
    "    qc_iqft.draw('mpl')\n",
    "    picture_array=measurement(qc_iqft,n)\n",
    "    new_image=retrieval(picture_array)\n",
    "\n",
    "    return new_image"
   ]
  }
 ],
 "metadata": {
  "kernelspec": {
   "display_name": "Quantum_Computing",
   "language": "python",
   "name": "quantum_computing"
  },
  "language_info": {
   "codemirror_mode": {
    "name": "ipython",
    "version": 3
   },
   "file_extension": ".py",
   "mimetype": "text/x-python",
   "name": "python",
   "nbconvert_exporter": "python",
   "pygments_lexer": "ipython3",
   "version": "3.9.5"
  }
 },
 "nbformat": 4,
 "nbformat_minor": 5
}
